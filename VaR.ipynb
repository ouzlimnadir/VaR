{
 "cells": [
  {
   "cell_type": "code",
   "execution_count": 65,
   "id": "eb491aa5",
   "metadata": {},
   "outputs": [],
   "source": [
    "import numpy as np\n",
    "import pandas as pd\n",
    "import datetime as dt\n",
    "import yfinance as yf\n",
    "\n",
    "tickers = ['MASI', 'MSI20', 'ESG10']"
   ]
  },
  {
   "cell_type": "code",
   "execution_count": 66,
   "id": "90ccd6da",
   "metadata": {},
   "outputs": [],
   "source": [
    "def extract_data(file_path):\n",
    "    return pd.read_excel(file_path)\n",
    "\n",
    "folder = 'indices/'\n",
    "ext = '.xls'"
   ]
  },
  {
   "cell_type": "code",
   "execution_count": 80,
   "id": "3430974c",
   "metadata": {},
   "outputs": [],
   "source": [
    "close_df = pd.DataFrame()\n",
    "\n",
    "\n",
    "\n",
    "for ticker in tickers:\n",
    "    file = folder + ticker + ext\n",
    "    data = extract_data(file)\n",
    "    data = data.set_index('Date')\n",
    "\n",
    "    close_df[ticker] = data['Dernier']\n",
    "\n",
    "log_returns = np.log(close_df / close_df.shift(1))\n",
    "log_returns = log_returns.dropna()"
   ]
  },
  {
   "cell_type": "code",
   "execution_count": 75,
   "id": "3760efc1",
   "metadata": {},
   "outputs": [
    {
     "name": "stdout",
     "output_type": "stream",
     "text": [
      "                MASI     MSI20     ESG10\n",
      "Date                                    \n",
      "2023-12-28 -0.003834 -0.003905 -0.007972\n",
      "2023-12-27  0.004750  0.006431  0.005233\n",
      "2023-12-26 -0.001542 -0.002264 -0.002314\n",
      "2023-12-25  0.005107  0.005775  0.005795\n",
      "2023-12-22  0.002870  0.002999  0.001513\n",
      "...              ...       ...       ...\n",
      "2023-01-06 -0.009048 -0.008924 -0.009350\n",
      "2023-01-05  0.032689  0.034588  0.037042\n",
      "2023-01-04  0.038938  0.037921  0.042805\n",
      "2023-01-03  0.018222  0.019822  0.015368\n",
      "2023-01-02  0.007269  0.007584  0.001556\n",
      "\n",
      "[248 rows x 3 columns]\n"
     ]
    }
   ],
   "source": [
    "portfolio_value = 1_000_000\n",
    "print(log_returns)"
   ]
  },
  {
   "cell_type": "markdown",
   "id": "ed0172ee",
   "metadata": {},
   "source": [
    "## Statistics of our samples"
   ]
  },
  {
   "cell_type": "code",
   "execution_count": 76,
   "id": "7d5403b3",
   "metadata": {},
   "outputs": [
    {
     "name": "stdout",
     "output_type": "stream",
     "text": [
      "                           MASI       MSI20       ESG10\n",
      "Size                 248.000000  248.000000  248.000000\n",
      "Mean                  -0.000490   -0.000582   -0.000454\n",
      "Standard deviation     0.007713    0.008586    0.008785\n",
      "Skewness              -0.466091   -0.602006   -0.445500\n",
      "Excess Kurtosis       12.811867   10.840732   11.066625\n",
      "Jarque-Bera         1003.797509  650.242761  680.597953\n"
     ]
    }
   ],
   "source": [
    "from scipy.stats import skew, kurtosis, jarque_bera\n",
    "\n",
    "statistics = pd.DataFrame(\n",
    "    index=[\n",
    "        'Size',\n",
    "        'Mean',\n",
    "        'Standard deviation',\n",
    "        'Skewness',\n",
    "        'Excess Kurtosis',\n",
    "        'Jarque-Bera'\n",
    "    ]\n",
    ")\n",
    "\n",
    "for ticker in tickers:\n",
    "    statistics[ticker] = [\n",
    "            len(log_returns[ticker]),\n",
    "            np.mean(log_returns[ticker]),\n",
    "            np.std(log_returns[ticker]),\n",
    "            skew(log_returns[ticker]),\n",
    "            kurtosis(log_returns[ticker], fisher=False),\n",
    "            jarque_bera(log_returns[ticker])[0]\n",
    "        ]\n",
    "\n",
    "print(statistics)"
   ]
  },
  {
   "cell_type": "markdown",
   "id": "2e1b03eb",
   "metadata": {},
   "source": [
    "## VaR-n"
   ]
  },
  {
   "cell_type": "code",
   "execution_count": 127,
   "id": "a80efab9",
   "metadata": {},
   "outputs": [],
   "source": [
    "from scipy.stats import norm,t\n",
    "\n",
    "confidence_levels = [0.950, 0.975, 0.980, 0.985, 0.990, 0.995, 0.999]\n",
    "\n",
    "tableau_var = pd.DataFrame(index=confidence_levels)\n",
    "\n",
    "for ticker in tickers:\n",
    "    std = statistics.loc['Standard deviation', ticker]\n",
    "    mu = statistics.loc['Mean', ticker]\n",
    "    rt = log_returns[ticker]\n",
    "    \n",
    "    # calcul var_n\n",
    "    var_n = [ - std * norm.ppf(1-cl) for cl in confidence_levels]\n",
    "    \n",
    "    # calcul var_t\n",
    "    k = np.mean(((rt - mu) / std) ** 2)\n",
    "    beta = std ** 2 * (k + 3) / (2 * k + 3)\n",
    "    n = int(6 / k + 4) + 1\n",
    "    var_t = [- np.sqrt(beta) * t.ppf(1-cl, n) for cl in confidence_levels]\n",
    "    \n",
    "    tableau_var[ticker+' var-n'] = var_n\n",
    "    tableau_var[ticker+' var-t'] = var_t"
   ]
  },
  {
   "cell_type": "code",
   "execution_count": 128,
   "id": "09bcbc43",
   "metadata": {},
   "outputs": [
    {
     "name": "stdout",
     "output_type": "stream",
     "text": [
      "                0.950     0.975     0.980     0.985     0.990     0.995  \\\n",
      "MASI var-n   0.012687  0.015117  0.015840  0.016738  0.017943  0.019867   \n",
      "MASI var-t   0.012504  0.015371  0.016276  0.017436  0.019066  0.021864   \n",
      "MSI20 var-n  0.014123  0.016828  0.017634  0.018632  0.019974  0.022116   \n",
      "MSI20 var-t  0.013792  0.016903  0.017879  0.019127  0.020874  0.023851   \n",
      "ESG10 var-n  0.014451  0.017219  0.018043  0.019065  0.020438  0.022630   \n",
      "ESG10 var-t  0.014242  0.017509  0.018539  0.019861  0.021718  0.024904   \n",
      "\n",
      "                0.999  \n",
      "MASI var-n   0.023835  \n",
      "MASI var-t   0.028586  \n",
      "MSI20 var-n  0.026533  \n",
      "MSI20 var-t  0.030908  \n",
      "ESG10 var-n  0.027149  \n",
      "ESG10 var-t  0.032561  \n"
     ]
    }
   ],
   "source": [
    "print(tableau_var.T)"
   ]
  },
  {
   "cell_type": "code",
   "execution_count": 132,
   "id": "ebf2421f",
   "metadata": {},
   "outputs": [
    {
     "data": {
      "text/plain": [
       "[<matplotlib.lines.Line2D at 0x2a9d7b2cf90>]"
      ]
     },
     "execution_count": 132,
     "metadata": {},
     "output_type": "execute_result"
    },
    {
     "data": {
      "image/png": "[encoded data removed]",
      "text/plain": [
       "<Figure size 640x480 with 1 Axes>"
      ]
     },
     "metadata": {},
     "output_type": "display_data"
    }
   ],
   "source": [
    "import matplotlib.pyplot as plt\n",
    "\n",
    "plt.plot(tableau_var['MASI var-n'],color='r')\n",
    "#plt.plot(tableau_var['MASI var-t'],color='b')\n",
    "y = np.ones(len(confidence_levels))\n",
    "y = y - confidence_levels\n",
    "plt.plot(confidence_levels,y,color='g')"
   ]
  },
  {
   "cell_type": "code",
   "execution_count": null,
   "id": "9cff659e",
   "metadata": {},
   "outputs": [],
   "source": []
  },
  {
   "cell_type": "code",
   "execution_count": null,
   "id": "94f68f9b",
   "metadata": {},
   "outputs": [],
   "source": []
  }
 ],
 "metadata": {
  "kernelspec": {
   "display_name": "Python 3 (ipykernel)",
   "language": "python",
   "name": "python3"
  },
  "language_info": {
   "codemirror_mode": {
    "name": "ipython",
    "version": 3
   },
   "file_extension": ".py",
   "mimetype": "text/x-python",
   "name": "python",
   "nbconvert_exporter": "python",
   "pygments_lexer": "ipython3",
   "version": "3.11.4"
  }
 },
 "nbformat": 4,
 "nbformat_minor": 5
}
